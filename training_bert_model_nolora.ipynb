{
 "cells": [
  {
   "cell_type": "code",
   "execution_count": 17,
   "id": "4efeb953-e432-4d96-9e55-a147c4d4d344",
   "metadata": {},
   "outputs": [
    {
     "name": "stderr",
     "output_type": "stream",
     "text": [
      "/tmp/ipykernel_1626846/3801325049.py:20: SettingWithCopyWarning: \n",
      "A value is trying to be set on a copy of a slice from a DataFrame.\n",
      "Try using .loc[row_indexer,col_indexer] = value instead\n",
      "\n",
      "See the caveats in the documentation: https://pandas.pydata.org/pandas-docs/stable/user_guide/indexing.html#returning-a-view-versus-a-copy\n",
      "  df2[\"labels\"] = df2[\"labels\"].map({-1: 0, 0: 1, 1: 2})\n",
      "Some weights of the model checkpoint at cardiffnlp/twitter-roberta-base-sentiment-latest were not used when initializing RobertaForSequenceClassification: ['roberta.pooler.dense.bias', 'roberta.pooler.dense.weight']\n",
      "- This IS expected if you are initializing RobertaForSequenceClassification from the checkpoint of a model trained on another task or with another architecture (e.g. initializing a BertForSequenceClassification model from a BertForPreTraining model).\n",
      "- This IS NOT expected if you are initializing RobertaForSequenceClassification from the checkpoint of a model that you expect to be exactly identical (initializing a BertForSequenceClassification model from a BertForSequenceClassification model).\n",
      "Map: 100%|██████████| 180/180 [00:00<00:00, 12102.64 examples/s]\n",
      "Map: 100%|██████████| 46/46 [00:00<00:00, 8387.15 examples/s]\n",
      "/home/f52r714/.conda/envs/lang_4/lib/python3.12/site-packages/transformers/training_args.py:1594: FutureWarning: `evaluation_strategy` is deprecated and will be removed in version 4.46 of 🤗 Transformers. Use `eval_strategy` instead\n",
      "  warnings.warn(\n",
      "/tmp/ipykernel_1626846/3801325049.py:76: FutureWarning: `tokenizer` is deprecated and will be removed in version 5.0.0 for `Trainer.__init__`. Use `processing_class` instead.\n",
      "  trainer = Trainer(\n",
      "Detected kernel version 4.18.0, which is below the recommended minimum of 5.5.0; this can cause the process to hang. It is recommended to upgrade the kernel to the minimum version or higher.\n",
      "\u001b[34m\u001b[1mwandb\u001b[0m: \u001b[33mWARNING\u001b[0m The `run_name` is currently set to the same value as `TrainingArguments.output_dir`. If this was not intended, please specify a different run name by setting the `TrainingArguments.run_name` parameter.\n",
      "Failed to detect the name of this notebook, you can set it manually with the WANDB_NOTEBOOK_NAME environment variable to enable code saving.\n",
      "\u001b[34m\u001b[1mwandb\u001b[0m: Using wandb-core as the SDK backend.  Please refer to https://wandb.me/wandb-core for more information.\n",
      "\u001b[34m\u001b[1mwandb\u001b[0m: Currently logged in as: \u001b[33mmmingyar\u001b[0m (\u001b[33mmmingyar-montana-state-university\u001b[0m) to \u001b[32mhttps://api.wandb.ai\u001b[0m. Use \u001b[1m`wandb login --relogin`\u001b[0m to force relogin\n"
     ]
    },
    {
     "data": {
      "text/html": [
       "Tracking run with wandb version 0.19.7.dev1"
      ],
      "text/plain": [
       "<IPython.core.display.HTML object>"
      ]
     },
     "metadata": {},
     "output_type": "display_data"
    },
    {
     "data": {
      "text/html": [
       "Run data is saved locally in <code>/home/f52r714/working/wandb/run-20250304_151008-pcmjcbjp</code>"
      ],
      "text/plain": [
       "<IPython.core.display.HTML object>"
      ]
     },
     "metadata": {},
     "output_type": "display_data"
    },
    {
     "data": {
      "text/html": [
       "Syncing run <strong><a href='https://wandb.ai/mmingyar-montana-state-university/huggingface/runs/pcmjcbjp' target=\"_blank\">./results</a></strong> to <a href='https://wandb.ai/mmingyar-montana-state-university/huggingface' target=\"_blank\">Weights & Biases</a> (<a href='https://wandb.me/developer-guide' target=\"_blank\">docs</a>)<br>"
      ],
      "text/plain": [
       "<IPython.core.display.HTML object>"
      ]
     },
     "metadata": {},
     "output_type": "display_data"
    },
    {
     "data": {
      "text/html": [
       " View project at <a href='https://wandb.ai/mmingyar-montana-state-university/huggingface' target=\"_blank\">https://wandb.ai/mmingyar-montana-state-university/huggingface</a>"
      ],
      "text/plain": [
       "<IPython.core.display.HTML object>"
      ]
     },
     "metadata": {},
     "output_type": "display_data"
    },
    {
     "data": {
      "text/html": [
       " View run at <a href='https://wandb.ai/mmingyar-montana-state-university/huggingface/runs/pcmjcbjp' target=\"_blank\">https://wandb.ai/mmingyar-montana-state-university/huggingface/runs/pcmjcbjp</a>"
      ],
      "text/plain": [
       "<IPython.core.display.HTML object>"
      ]
     },
     "metadata": {},
     "output_type": "display_data"
    },
    {
     "data": {
      "text/html": [
       "\n",
       "    <div>\n",
       "      \n",
       "      <progress value='230' max='230' style='width:300px; height:20px; vertical-align: middle;'></progress>\n",
       "      [230/230 01:12, Epoch 10/10]\n",
       "    </div>\n",
       "    <table border=\"1\" class=\"dataframe\">\n",
       "  <thead>\n",
       " <tr style=\"text-align: left;\">\n",
       "      <th>Epoch</th>\n",
       "      <th>Training Loss</th>\n",
       "      <th>Validation Loss</th>\n",
       "      <th>Accuracy</th>\n",
       "    </tr>\n",
       "  </thead>\n",
       "  <tbody>\n",
       "    <tr>\n",
       "      <td>1</td>\n",
       "      <td>0.537300</td>\n",
       "      <td>0.672632</td>\n",
       "      <td>0.739130</td>\n",
       "    </tr>\n",
       "    <tr>\n",
       "      <td>2</td>\n",
       "      <td>0.262600</td>\n",
       "      <td>0.861780</td>\n",
       "      <td>0.782609</td>\n",
       "    </tr>\n",
       "    <tr>\n",
       "      <td>3</td>\n",
       "      <td>0.179400</td>\n",
       "      <td>0.628426</td>\n",
       "      <td>0.869565</td>\n",
       "    </tr>\n",
       "    <tr>\n",
       "      <td>4</td>\n",
       "      <td>0.050500</td>\n",
       "      <td>0.861219</td>\n",
       "      <td>0.847826</td>\n",
       "    </tr>\n",
       "    <tr>\n",
       "      <td>5</td>\n",
       "      <td>0.035600</td>\n",
       "      <td>0.887512</td>\n",
       "      <td>0.869565</td>\n",
       "    </tr>\n",
       "    <tr>\n",
       "      <td>6</td>\n",
       "      <td>0.027900</td>\n",
       "      <td>0.899707</td>\n",
       "      <td>0.869565</td>\n",
       "    </tr>\n",
       "    <tr>\n",
       "      <td>7</td>\n",
       "      <td>0.045000</td>\n",
       "      <td>0.950229</td>\n",
       "      <td>0.847826</td>\n",
       "    </tr>\n",
       "    <tr>\n",
       "      <td>8</td>\n",
       "      <td>0.039400</td>\n",
       "      <td>0.944299</td>\n",
       "      <td>0.847826</td>\n",
       "    </tr>\n",
       "    <tr>\n",
       "      <td>9</td>\n",
       "      <td>0.022500</td>\n",
       "      <td>0.958504</td>\n",
       "      <td>0.847826</td>\n",
       "    </tr>\n",
       "    <tr>\n",
       "      <td>10</td>\n",
       "      <td>0.020200</td>\n",
       "      <td>0.960922</td>\n",
       "      <td>0.847826</td>\n",
       "    </tr>\n",
       "  </tbody>\n",
       "</table><p>"
      ],
      "text/plain": [
       "<IPython.core.display.HTML object>"
      ]
     },
     "metadata": {},
     "output_type": "display_data"
    },
    {
     "data": {
      "text/html": [
       "\n",
       "    <div>\n",
       "      \n",
       "      <progress value='230' max='23' style='width:300px; height:20px; vertical-align: middle;'></progress>\n",
       "      [23/23 00:02]\n",
       "    </div>\n",
       "    "
      ],
      "text/plain": [
       "<IPython.core.display.HTML object>"
      ]
     },
     "metadata": {},
     "output_type": "display_data"
    },
    {
     "data": {
      "image/png": "[encoded data removed]",
      "text/plain": [
       "<Figure size 1200x500 with 2 Axes>"
      ]
     },
     "metadata": {},
     "output_type": "display_data"
    },
    {
     "name": "stdout",
     "output_type": "stream",
     "text": [
      "Label Distribution in Training Set:\n",
      "labels\n",
      "0     10\n",
      "1    119\n",
      "2     51\n",
      "Name: count, dtype: int64\n",
      "\n",
      "Label Distribution in Test Set:\n",
      "labels\n",
      "0     4\n",
      "1    32\n",
      "2    10\n",
      "Name: count, dtype: int64\n",
      "\n",
      "Total Samples Used: 226\n"
     ]
    }
   ],
   "source": [
    "import torch\n",
    "import matplotlib.pyplot as plt\n",
    "from transformers import AutoTokenizer, AutoModelForSequenceClassification, Trainer, TrainingArguments\n",
    "from datasets import Dataset\n",
    "import pandas as pd\n",
    "from sklearn.metrics import accuracy_score\n",
    "from sklearn.model_selection import train_test_split\n",
    "from safetensors.torch import save_file, load_file\n",
    "import pickle\n",
    "\n",
    "# Load and prepare the dataset\n",
    "def load_and_prepare_data(file_path, journal):\n",
    "    if journal == \"TPT\":\n",
    "        df = pd.read_csv(file_path)\n",
    "    elif journal == \"AJP\":\n",
    "        with open(file_path, 'rb') as file:\n",
    "            df = pickle.load(file)\n",
    "            df = df.rename(columns={'sentiment_human': \"labels\", 'ex_sent': \"text\"})\n",
    "    df2 = df[df[\"labels\"] != -9999]\n",
    "    df2[\"labels\"] = df2[\"labels\"].map({-1: 0, 0: 1, 1: 2})   \n",
    "    return df2\n",
    "\n",
    "def tokenize_function(examples):\n",
    "    return tokenizer(examples[\"text\"], padding=True, truncation=True, max_length=128)\n",
    "\n",
    "fileloc = \"df_ajp_merged.pkl\"\n",
    "data = load_and_prepare_data(fileloc, \"AJP\")\n",
    "\n",
    "# Split data into training and testing\n",
    "train_df, test_df = train_test_split(data, test_size=0.2, train_size=0.8)\n",
    "\n",
    "# Load tokenizer and model\n",
    "tokenizer = AutoTokenizer.from_pretrained(\"cardiffnlp/twitter-roberta-base-sentiment-latest\")\n",
    "model = AutoModelForSequenceClassification.from_pretrained(\"cardiffnlp/twitter-roberta-base-sentiment-latest\", num_labels=3)\n",
    "\n",
    "# Convert to Hugging Face Dataset\n",
    "datasets = {\n",
    "    \"train\": Dataset.from_pandas(train_df),\n",
    "    \"test\": Dataset.from_pandas(test_df)\n",
    "}\n",
    "\n",
    "encoded_datasets = {key: ds.map(tokenize_function, batched=True) for key, ds in datasets.items()}\n",
    "\n",
    "# Define metrics\n",
    "def compute_metrics(eval_pred):\n",
    "    logits, labels = eval_pred\n",
    "    predictions = torch.argmax(torch.tensor(logits), dim=-1)\n",
    "    acc = accuracy_score(labels, predictions)\n",
    "    return {\"accuracy\": acc}\n",
    "\n",
    "# Training arguments\n",
    "training_args = TrainingArguments(\n",
    "    output_dir=\"./results\",\n",
    "    evaluation_strategy=\"epoch\",\n",
    "    logging_strategy='epoch',\n",
    "    save_strategy=\"epoch\",\n",
    "    learning_rate=2e-5,\n",
    "    per_device_train_batch_size=8,\n",
    "    per_device_eval_batch_size=8,\n",
    "    num_train_epochs=10,\n",
    "    weight_decay=0.01,\n",
    "    logging_dir=\"./logs\",\n",
    "    logging_steps=10,\n",
    "    save_total_limit=2,\n",
    "    load_best_model_at_end=True,\n",
    "    metric_for_best_model=\"accuracy\",\n",
    ")\n",
    "\n",
    "# Track loss and accuracy\n",
    "train_loss = []\n",
    "val_loss = []\n",
    "train_acc = []\n",
    "val_acc = []\n",
    "\n",
    "# Trainer setup\n",
    "trainer = Trainer(\n",
    "    model=model,\n",
    "    args=training_args,\n",
    "    train_dataset=encoded_datasets[\"train\"],\n",
    "    eval_dataset=encoded_datasets[\"test\"],\n",
    "    tokenizer=tokenizer,\n",
    "    compute_metrics=compute_metrics,\n",
    ")\n",
    "\n",
    "# Train and save loss/accuracy after each epoch\n",
    "trainer.train()\n",
    "\n",
    "# Track loss and accuracy after each epoch\n",
    "train_loss = []\n",
    "val_loss = []\n",
    "train_acc = []\n",
    "val_acc = []\n",
    "\n",
    "for log in trainer.state.log_history:\n",
    "    if \"loss\" in log:  # Training loss is logged during training\n",
    "        train_loss.append(log[\"loss\"])\n",
    "    if \"eval_loss\" in log:  # Validation loss and accuracy are logged during evaluation\n",
    "        val_loss.append(log[\"eval_loss\"])\n",
    "        val_acc.append(log[\"eval_accuracy\"])\n",
    "\n",
    "# Get training accuracy at each epoch\n",
    "for epoch in range(len(train_loss)):\n",
    "    train_results = trainer.evaluate(eval_dataset=encoded_datasets[\"train\"])\n",
    "    train_acc.append(train_results[\"eval_accuracy\"])\n",
    "# P\n",
    "# Plot loss and accuracy\n",
    "epochs = range(1, training_args.num_train_epochs + 1)\n",
    "plt.figure(figsize=(12, 5))\n",
    "\n",
    "# Loss plot\n",
    "plt.subplot(1, 2, 1)\n",
    "plt.plot(epochs, train_loss, label='Training Loss', color='blue')\n",
    "plt.plot(epochs, val_loss, label='Validation Loss', color='red')\n",
    "plt.xlabel('Epochs')\n",
    "plt.ylabel('Loss')\n",
    "plt.title('Loss Curve')\n",
    "plt.legend()\n",
    "\n",
    "# Accuracy plot\n",
    "plt.subplot(1, 2, 2)\n",
    "plt.plot(epochs, train_acc, label='Training Accuracy', color='blue')\n",
    "plt.plot(epochs, val_acc, label='Validation Accuracy', color='red')\n",
    "plt.xlabel('Epochs')\n",
    "plt.ylabel('Accuracy')\n",
    "plt.title('Accuracy Curve')\n",
    "plt.legend()\n",
    "\n",
    "plt.show()\n",
    "\n",
    "# Print class distributions\n",
    "train_counts = train_df[\"labels\"].value_counts().sort_index()\n",
    "test_counts = test_df[\"labels\"].value_counts().sort_index()\n",
    "\n",
    "total_samples = len(data)\n",
    "print(\"Label Distribution in Training Set:\")\n",
    "print(train_counts)\n",
    "print(\"\\nLabel Distribution in Test Set:\")\n",
    "print(test_counts)\n",
    "print(f\"\\nTotal Samples Used: {total_samples}\")\n"
   ]
  },
  {
   "cell_type": "code",
   "execution_count": 16,
   "id": "58878b33-f647-4c47-ae7c-aebfc8eb817c",
   "metadata": {},
   "outputs": [
    {
     "name": "stdout",
     "output_type": "stream",
     "text": [
      "0.8465811610221863\n",
      "0.030038591182750204\n",
      "0.8913043478260869\n",
      "{'eval_loss': 0.8465811610221863, 'eval_accuracy': 0.8913043478260869, 'eval_runtime': 0.0657, 'eval_samples_per_second': 699.672, 'eval_steps_per_second': 91.262, 'epoch': 10.0}\n"
     ]
    }
   ],
   "source": [
    "train_loss.append(train_metrics.training_loss) #This records the average of all the training steps losses, which would work if the loop varied the number of epochs, which it does not. The number of epochs should be updated every run and this number will then be correct. \n",
    "val_metrics = trainer.evaluate()\n",
    "print(val_metrics[\"eval_loss\"])\n",
    "print(train_metrics.metrics[\"train_loss\"]) ##Problem:  This is saving the \"train_loss\" value to the training accuracy list. \n",
    "print(val_metrics[\"eval_accuracy\"])\n",
    "print(val_metrics)\n",
    "\n",
    "trainer."
   ]
  },
  {
   "cell_type": "code",
   "execution_count": null,
   "id": "b000666d-2bbd-4628-88ff-e43b10a6b594",
   "metadata": {},
   "outputs": [],
   "source": [
    "# Evaluate on the test dataset (default behavior)\n",
    "test_results = trainer.evaluate(eval_dataset=encoded_datasets[\"test\"])\n",
    "print(f\"Test Accuracy: {test_results['eval_accuracy']*100:.2f}%\")\n",
    "\n",
    "# Evaluate on the training dataset (optional)\n",
    "train_results = trainer.evaluate(eval_dataset=encoded_datasets[\"train\"])\n",
    "print(f\"Training Accuracy: {train_results['eval_accuracy']*100:.2f}%\")"
   ]
  },
  {
   "cell_type": "code",
   "execution_count": 9,
   "id": "64646d6f-0741-429a-9229-d112803f498e",
   "metadata": {},
   "outputs": [
    {
     "name": "stdout",
     "output_type": "stream",
     "text": [
      "Test Accuracy: 83.93%\n",
      "Training Accuracy: 87.00%\n"
     ]
    }
   ],
   "source": [
    "# Evaluate on the test dataset (default behavior)\n",
    "test_results = trainer.evaluate(eval_dataset=encoded_datasets[\"test\"])\n",
    "print(f\"Test Accuracy: {test_results['eval_accuracy']*100:.2f}%\")\n",
    "\n",
    "# Evaluate on the training dataset (optional)\n",
    "train_results = trainer.evaluate(eval_dataset=encoded_datasets[\"train\"])\n",
    "print(f\"Training Accuracy: {train_results['eval_accuracy']*100:.2f}%\")"
   ]
  },
  {
   "cell_type": "code",
   "execution_count": null,
   "id": "3ec5b099-d055-474f-bc05-f4f81c225f1e",
   "metadata": {},
   "outputs": [],
   "source": []
  },
  {
   "cell_type": "code",
   "execution_count": 10,
   "id": "3a59f2fb-235f-4c23-9cdd-92f932ea9e62",
   "metadata": {},
   "outputs": [
    {
     "name": "stdout",
     "output_type": "stream",
     "text": [
      "tensor([[0.4001, 0.5742, 0.0257]])\n",
      "Sentiment: neutral\n"
     ]
    }
   ],
   "source": [
    "def classify_sentiment(model, tokenizer, sentence):\n",
    "    device = torch.device(\"cuda\" if torch.cuda.is_available() else \"cpu\")\n",
    "    model.to(device)  # Ensure the model is on the GPU\n",
    "    inputs = tokenizer(sentence, return_tensors=\"pt\").to(device)  # Move input tensors to the GPU\n",
    "\n",
    "    with torch.no_grad():  # No need for gradient computation during inference\n",
    "        outputs = model(**inputs)\n",
    "\n",
    "    logits = outputs.logits  # Extract logits\n",
    "    probabilities = torch.nn.functional.softmax(logits, dim=-1)  # Convert logits to probabilities\n",
    "    predicted_class = probabilities.argmax().item()  # Get the highest probability class\n",
    "\n",
    "    label_map = {0: \"negative\", 1: \"neutral\", 2: \"positive\"}  # Adjust based on model's labels\n",
    "\n",
    "    print(probabilities)\n",
    "    return label_map[predicted_class], probabilities\n",
    "\n",
    "# Example usage:\n",
    "sentence = \"Active learning is a buzz word that means nothing.\"\n",
    "sentiment, probs = classify_sentiment(model, tokenizer, sentence)\n",
    "print(f\"Sentiment: {sentiment}\")"
   ]
  },
  {
   "cell_type": "code",
   "execution_count": null,
   "id": "6b0396a0-f3ae-46ec-af6b-547cbe58a2d9",
   "metadata": {},
   "outputs": [],
   "source": []
  },
  {
   "cell_type": "code",
   "execution_count": 49,
   "id": "4959e7a2-a4d8-4ae7-8022-604e8a86b7e4",
   "metadata": {},
   "outputs": [
    {
     "name": "stderr",
     "output_type": "stream",
     "text": [
      "/home/f52r714/.conda/envs/lang_4/lib/python3.12/site-packages/transformers/training_args.py:1545: FutureWarning: `evaluation_strategy` is deprecated and will be removed in version 4.46 of 🤗 Transformers. Use `eval_strategy` instead\n",
      "  warnings.warn(\n",
      "Detected kernel version 4.18.0, which is below the recommended minimum of 5.5.0; this can cause the process to hang. It is recommended to upgrade the kernel to the minimum version or higher.\n"
     ]
    },
    {
     "name": "stdout",
     "output_type": "stream",
     "text": [
      "35\n",
      "LoRA model loaded successfully from safetensors.\n"
     ]
    },
    {
     "data": {
      "text/html": [
       "\n",
       "    <div>\n",
       "      \n",
       "      <progress value='7' max='7' style='width:300px; height:20px; vertical-align: middle;'></progress>\n",
       "      [7/7 00:01]\n",
       "    </div>\n",
       "    "
      ],
      "text/plain": [
       "<IPython.core.display.HTML object>"
      ]
     },
     "metadata": {},
     "output_type": "display_data"
    },
    {
     "name": "stdout",
     "output_type": "stream",
     "text": [
      "Test Accuracy after loading: 83.93%\n"
     ]
    }
   ],
   "source": [
    "#######Okie doke, I don't think this will work if loading in after the fact. I think you need to train the lora before you train the model? \n",
    "\n",
    "\n",
    "from peft import LoraConfig, get_peft_model, get_peft_model_state_dict\n",
    "import random\n",
    "randint=random.randint(0,100)\n",
    "torch.manual_seed(randint)\n",
    "print(randint)\n",
    "\n",
    "lora_config = LoraConfig(\n",
    "    r=8,\n",
    "    lora_alpha=32,\n",
    "    target_modules=[\"classifier.dense\", \"classifier.out_proj\"],\n",
    "    lora_dropout=0.1,\n",
    "    bias=\"none\"\n",
    ")\n",
    "\n",
    "lora_model = get_peft_model(model, lora_config)\n",
    "\n",
    "#Defining the training args for the lora layer\n",
    "training_args = TrainingArguments(\n",
    "    output_dir=\"./results\",\n",
    "    evaluation_strategy=\"epoch\",\n",
    "    logging_strategy='epoch',\n",
    "    save_strategy=\"epoch\",\n",
    "    learning_rate=1e-6, #changed from 2e-5\n",
    "    per_device_train_batch_size=8,\n",
    "    per_device_eval_batch_size=8,\n",
    "    num_train_epochs=epoch,\n",
    "    weight_decay=0.07,\n",
    "    logging_dir=\"./logs\",\n",
    "    logging_steps=10,\n",
    "    save_total_limit=2,\n",
    "    load_best_model_at_end=True,\n",
    "    metric_for_best_model=\"accuracy\",\n",
    ")\n",
    "trainer = Trainer(\n",
    "    model=model,\n",
    "    args=training_args,\n",
    "    train_dataset=encoded_datasets[\"train\"],\n",
    "    eval_dataset=encoded_datasets[\"test\"],\n",
    "    tokenizer=tokenizer,\n",
    "    compute_metrics=compute_metrics,\n",
    ")\n",
    "\n",
    "# Apply LoRA modifications\n",
    "#lora_model = get_peft_model(model, lora_config)\n",
    "\n",
    "# Load the LoRA adapter weights\n",
    "state_dict = load_file(\"trained_model_roberta_accurate.safetensors\")\n",
    "#lora_model.load_state_dict(state_dict, strict=False)\n",
    "#lora_model.enable_adapter_layers()\n",
    "\n",
    "print(\"LoRA model loaded successfully from safetensors.\")\n",
    "\n",
    "\n",
    "for name, param in lora_model.named_parameters():\n",
    "    if \"lora\" in name:\n",
    "        param.data += torch.randn_like(param.data) * 0.05  # Small random perturbation\n",
    "        torch.rand(random.randint(1,100))\n",
    "    #torch.seed()\n",
    "# Evaluate the model after loading\n",
    "results = trainer.evaluate()\n",
    "accuracy = results[\"eval_accuracy\"] * 100\n",
    "print(f\"Test Accuracy after loading: {accuracy:.2f}%\")"
   ]
  },
  {
   "cell_type": "code",
   "execution_count": 18,
   "id": "637fe392-009d-478c-b3cd-9c0dc8d9e533",
   "metadata": {},
   "outputs": [
    {
     "data": {
      "text/plain": [
       "1"
      ]
     },
     "execution_count": 18,
     "metadata": {},
     "output_type": "execute_result"
    }
   ],
   "source": [
    "datasets['test']['labels'].count(0)"
   ]
  },
  {
   "cell_type": "code",
   "execution_count": null,
   "id": "7d8ecae3-c561-429d-b991-403b7146043b",
   "metadata": {},
   "outputs": [],
   "source": [
    "#"
   ]
  }
 ],
 "metadata": {
  "kernelspec": {
   "display_name": "lang_4",
   "language": "python",
   "name": "lang_4"
  },
  "language_info": {
   "codemirror_mode": {
    "name": "ipython",
    "version": 3
   },
   "file_extension": ".py",
   "mimetype": "text/x-python",
   "name": "python",
   "nbconvert_exporter": "python",
   "pygments_lexer": "ipython3",
   "version": "3.12.2"
  }
 },
 "nbformat": 4,
 "nbformat_minor": 5
}
